{
 "cells": [
  {
   "cell_type": "code",
   "execution_count": null,
   "id": "9546686c",
   "metadata": {},
   "outputs": [],
   "source": [
    "## Assignment 1"
   ]
  },
  {
   "cell_type": "raw",
   "id": "94ea1909",
   "metadata": {},
   "source": [
    "#1. In the below elements which of them are values or an expression? eg:- values can be integer or string and expressions will be mathematical operators.\n",
    "\n",
    "*  - expression\n",
    "'hello' - values\n",
    "-87.8 - values\n",
    "- expression\n",
    "/ expression\n",
    "+\texpression\n",
    "6 values\n"
   ]
  },
  {
   "cell_type": "raw",
   "id": "f871f77c",
   "metadata": {},
   "source": [
    "#2. What is the difference between string and variable?\n",
    "\n",
    "# A string is a datatype which contains any characters/numbers. It is defined by ' ' / \" \" / '''  '''.\n",
    "ex - 'hi this is assignment no 1'\n",
    "A variable is used to store any value of any datatype. It is a memory location in dynamic memory of our system.\n",
    "ex a= 'hi' , here a is the name of variable which is defined to store the value 'hi'."
   ]
  },
  {
   "cell_type": "raw",
   "id": "8832b446",
   "metadata": {},
   "source": [
    "#3. Describe three different data types.\n",
    "\n",
    "int - int datatype is used to store integer values.\n",
    "ex - a = 1, b = 2\n",
    "\n",
    "str - str is used to store string values.\n",
    "ex - a = \"hi\" , b = \"hello\"\n",
    "\n",
    "list - list is a type of data type which can store any type of values assigned with a index position. list is mutable. it is represented by [ ] \n",
    "\n",
    "ex - a = [1,2,'a', 'b' , [1,2,3]]\n",
    "\n",
    "tuple - tuple is similar to list but is not mutable. it is represented by ( )\n",
    "\n",
    "ex - a = (1,2,3, 'h', 'hhh' , [2,3,4])"
   ]
  },
  {
   "cell_type": "raw",
   "id": "7fdcb860",
   "metadata": {},
   "source": [
    "#4. What is an expression made up of? What do all expressions do?\n",
    "\n",
    "Expressions are made up of variable, operators and values.\n",
    "Any valid expression returns a definite value.\n",
    "\n",
    "ex - 2+3 , this will return 5"
   ]
  },
  {
   "cell_type": "raw",
   "id": "a429c740",
   "metadata": {},
   "source": [
    "#5. This assignment statements, like spam = 10. What is the difference between an expression and a statement?\n",
    "\n",
    "An expression will return a value only, but a statement reprsents a command and it may or may not return an output depending on the statment. It uses keywords to instruct compiler to execute a definte set of action.\n",
    "\n",
    "In spam = 10 , the value 10 is being assigned to variable spam. But no return is given to user.\n",
    "But print (spam) statment will print the value of 10."
   ]
  },
  {
   "cell_type": "raw",
   "id": "e8e6c729",
   "metadata": {},
   "source": [
    "#6. After running the following code, what does the variable bacon contain?\n",
    "\n",
    "bacon = 22\n",
    "bacon + 1\n",
    "\n",
    "bacon contains 22 only after execution, as no assigment is taking place after bacon +1 is being executed."
   ]
  },
  {
   "cell_type": "raw",
   "id": "371b3a76",
   "metadata": {},
   "source": [
    "#7. What should the values of the following two terms be?\n",
    "'spam' + 'spamspam'\n",
    "'spam' * 3\n",
    "\n",
    "output \n",
    "'spam' + 'spamspam'   - > 'spamspamspam'\n",
    "'spam' * 3            -> 'spamspamspam'\n"
   ]
  },
  {
   "cell_type": "raw",
   "id": "8fa4f158",
   "metadata": {},
   "source": [
    "#8. Why is eggs a valid variable name while 100 is invalid?\n",
    "\n",
    "A variable name can be anything but cannot start with integers or cannot be keywords. That's why eggs is a valid variable name but 100 is not."
   ]
  },
  {
   "cell_type": "raw",
   "id": "062d5bb8",
   "metadata": {},
   "source": [
    "#9. What three functions can be used to get the integer, floating-point number, or string version of a value?\n",
    "\n",
    "Below functions can be usedto get respective data type.\n",
    "\n",
    "int() - integer\n",
    "float() - float\n",
    "str() - string"
   ]
  },
  {
   "cell_type": "raw",
   "id": "1f165da9",
   "metadata": {},
   "source": [
    "#10. Why does this expression cause an error? How can you fix it?\n",
    "'I have eaten ' + 99 + ' burritos.'\n",
    "\n",
    "We cannot concatenate string and integers.\n",
    "Fix - \n",
    "'I have eaten ' + '99' + ' burritos.'"
   ]
  },
  {
   "cell_type": "code",
   "execution_count": 7,
   "id": "fa9e6232",
   "metadata": {},
   "outputs": [
    {
     "data": {
      "text/plain": [
       "'I have eaten 99 burritos.'"
      ]
     },
     "execution_count": 7,
     "metadata": {},
     "output_type": "execute_result"
    }
   ],
   "source": [
    "'I have eaten ' + '99' + ' burritos.'"
   ]
  },
  {
   "cell_type": "code",
   "execution_count": null,
   "id": "a306b3fd",
   "metadata": {},
   "outputs": [],
   "source": []
  }
 ],
 "metadata": {
  "kernelspec": {
   "display_name": "Python 3 (ipykernel)",
   "language": "python",
   "name": "python3"
  },
  "language_info": {
   "codemirror_mode": {
    "name": "ipython",
    "version": 3
   },
   "file_extension": ".py",
   "mimetype": "text/x-python",
   "name": "python",
   "nbconvert_exporter": "python",
   "pygments_lexer": "ipython3",
   "version": "3.9.7"
  }
 },
 "nbformat": 4,
 "nbformat_minor": 5
}
