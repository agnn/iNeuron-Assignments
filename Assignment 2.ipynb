{
 "cells": [
  {
   "cell_type": "code",
   "execution_count": null,
   "id": "bc11f3e5",
   "metadata": {},
   "outputs": [],
   "source": [
    "#ASSESMENT 2"
   ]
  },
  {
   "cell_type": "code",
   "execution_count": null,
   "id": "93929c3f",
   "metadata": {},
   "outputs": [],
   "source": [
    "#1.What are the two values of the Boolean data type? How do you write them?\n",
    "\n",
    "\n",
    "#True and False are two values of Boolean data type.\n",
    "#In Python it is written as \n",
    "\n",
    "True and False.\n"
   ]
  },
  {
   "cell_type": "code",
   "execution_count": null,
   "id": "2c1302e1",
   "metadata": {},
   "outputs": [],
   "source": [
    "#2. What are the three different types of Boolean operators?\n",
    "\n",
    "\n",
    "and,or, not #are the three Boolean operators.\n"
   ]
  },
  {
   "cell_type": "code",
   "execution_count": null,
   "id": "629497b0",
   "metadata": {},
   "outputs": [],
   "source": [
    "#3. Make a list of each Boolean operator's truth tables (i.e. every possible combination of Boolean values for the operator \n",
    "#and what it evaluate ).\n",
    "\n",
    "AND\n",
    "1\t1\t1\n",
    "1\t0\t0\n",
    "0\t1\t0\n",
    "0\t0\t0\n",
    "\n",
    "OR\n",
    "1\t1\t1\n",
    "1\t0\t1\n",
    "0\t1\t1\n",
    "0\t0\t0\n",
    "\n",
    "NOT\n",
    "1\t0\n",
    "0\t1\n"
   ]
  },
  {
   "cell_type": "code",
   "execution_count": null,
   "id": "6b4b245e",
   "metadata": {},
   "outputs": [],
   "source": [
    "4. What are the values of the following expressions?\n",
    "(5 > 4) and (3 == 5)    \n",
    "ANS - False\n",
    "not (5 > 4)\n",
    "ANS - False\n",
    "(5 > 4) or (3 == 5)\n",
    "ANS - True\n",
    "not ((5 > 4) or (3 == 5))\n",
    "ANS - False\n",
    "(True and True) and (True == False)\n",
    "ANS - False\n",
    "(not False) or (not True)\n",
    "ANS - True\n"
   ]
  },
  {
   "cell_type": "code",
   "execution_count": null,
   "id": "f105d149",
   "metadata": {},
   "outputs": [],
   "source": [
    "5. What are the six comparison operators?\n",
    "ANS – \n",
    "Six comparison operator are – \n",
    "1.\t==\n",
    "2.\t!=\n",
    "3.\t>\n",
    "4.\t>=\n",
    "5.\t<\n",
    "6.\t<=\n"
   ]
  },
  {
   "cell_type": "code",
   "execution_count": null,
   "id": "984534af",
   "metadata": {},
   "outputs": [],
   "source": [
    "6. How do you tell the difference between the equal to and assignment operators? Describe a condition and when you would use one.\n",
    "\n",
    "\n",
    "Equal to operator uses ‘==’ to compare left side and right side of the operator, whereas as single ‘ = ‘ denotes assignment operation.\n",
    "\n",
    "Example.\n",
    "a = 123 , here the variable ‘ a ‘ is assigned with the value 123.\n",
    "Again, \n",
    "a= 1 , b = 2\n",
    "if a==b:\n",
    "here , it is being checked if variable ‘a’ is equal to ‘b’, which is false.\n"
   ]
  },
  {
   "cell_type": "code",
   "execution_count": null,
   "id": "f6ee51d3",
   "metadata": {},
   "outputs": [],
   "source": [
    "7. Identify the three blocks in this code:\n",
    "spam = 0\n",
    "if spam == 10:\n",
    "print('eggs')\n",
    "if spam > 5:\n",
    "print('bacon')\n",
    "else:\n",
    "print('ham')\n",
    "print('spam')\n",
    "print('spam')\n",
    "\n",
    "\n",
    "ANS\n",
    "\n",
    "spam = 0\n",
    "if spam == 10:\t\t\t\t#block1 -first if block\n",
    "    print('eggs')\n",
    "if spam > 5:\t\t\t\t#block2 – second if block\n",
    "    print('bacon')\n",
    "else:\t\t\t\t\t#block3 – else block\n",
    "    print('ham')\n",
    "    print('spam')\n",
    "    print('spam')\n"
   ]
  },
  {
   "cell_type": "code",
   "execution_count": 1,
   "id": "6e0e5bd6",
   "metadata": {},
   "outputs": [],
   "source": [
    "#8. Write code that prints Hello if 1 is stored in spam, prints Howdy if 2 is stored in spam, and prints Greetings! if anything else is stored in spam."
   ]
  },
  {
   "cell_type": "code",
   "execution_count": 7,
   "id": "b5598829",
   "metadata": {},
   "outputs": [
    {
     "name": "stdout",
     "output_type": "stream",
     "text": [
      "Enter any number :3\n",
      "Greetings!\n"
     ]
    }
   ],
   "source": [
    "spam = int(input(\"Enter any number :\"))\n",
    "\n",
    "if spam == 1:\n",
    "    print(\"Hello\")\n",
    "elif spam == 2:\n",
    "    print(\"Howdy\")\n",
    "else:\n",
    "    print(\"Greetings!\")"
   ]
  },
  {
   "cell_type": "code",
   "execution_count": null,
   "id": "65d76bd9",
   "metadata": {},
   "outputs": [],
   "source": [
    "9.If your programme is stuck in an endless loop, what keys you’ll press?\n",
    "\n",
    "ANS\n",
    "CTRL + C\n"
   ]
  },
  {
   "cell_type": "code",
   "execution_count": null,
   "id": "68d9bfc0",
   "metadata": {},
   "outputs": [],
   "source": [
    "10. How can you tell the difference between break and continue?\n",
    "\n",
    "ANS\n",
    "\n",
    "Break and continue works inside loops.\n",
    "If keyword break is encountered inside a loop , the loop will terminate.\n",
    "If continue keyword is encountered, the loop operation will be redirected to the next iteration in loop.\n",
    "\n",
    "example:\n",
    "    \n",
    "In the below code, on evaluating even numbers the loop control forces to next iteration because of continue keyword, \n",
    "when value of ‘i’ equals to 51 , the loop is forced to break.\n"
   ]
  },
  {
   "cell_type": "code",
   "execution_count": 15,
   "id": "1c785b46",
   "metadata": {},
   "outputs": [
    {
     "name": "stdout",
     "output_type": "stream",
     "text": [
      "1\n",
      "3\n",
      "5\n",
      "7\n",
      "9\n",
      "11\n",
      "13\n",
      "15\n",
      "17\n",
      "19\n",
      "21\n",
      "23\n",
      "25\n",
      "27\n",
      "29\n",
      "31\n",
      "33\n",
      "35\n",
      "37\n",
      "39\n",
      "41\n",
      "43\n",
      "45\n",
      "47\n",
      "49\n"
     ]
    }
   ],
   "source": [
    "for i in range (100):\n",
    "    if i%2 == 0:\n",
    "        continue\n",
    "    elif i==51:\n",
    "        break\n",
    "    else:\n",
    "        print(i)"
   ]
  },
  {
   "cell_type": "code",
   "execution_count": 16,
   "id": "bd10f755",
   "metadata": {},
   "outputs": [],
   "source": [
    "#11. In a for loop, what is the difference between range(10), range(0, 10), and range(0, 10, 1)?"
   ]
  },
  {
   "cell_type": "code",
   "execution_count": 20,
   "id": "7e43b29f",
   "metadata": {},
   "outputs": [
    {
     "name": "stdout",
     "output_type": "stream",
     "text": [
      "0 1 2 3 4 5 6 7 8 9 "
     ]
    }
   ],
   "source": [
    "for i in range(10):\n",
    "    print (i,end=' ')"
   ]
  },
  {
   "cell_type": "code",
   "execution_count": 21,
   "id": "f833381f",
   "metadata": {},
   "outputs": [
    {
     "name": "stdout",
     "output_type": "stream",
     "text": [
      "0 1 2 3 4 5 6 7 8 9 "
     ]
    }
   ],
   "source": [
    "for i in range(0,10):\n",
    "    print (i,end=' ')"
   ]
  },
  {
   "cell_type": "code",
   "execution_count": 22,
   "id": "e1de232d",
   "metadata": {},
   "outputs": [
    {
     "name": "stdout",
     "output_type": "stream",
     "text": [
      "0 1 2 3 4 5 6 7 8 9 "
     ]
    }
   ],
   "source": [
    "for i in range(0,10,1):\n",
    "    print (i,end=' ')"
   ]
  },
  {
   "cell_type": "code",
   "execution_count": null,
   "id": "4561b9aa",
   "metadata": {},
   "outputs": [],
   "source": [
    "All three produces the same result and means the same.\n",
    "By default, range function lower bound is 0 and increment is 1."
   ]
  },
  {
   "cell_type": "code",
   "execution_count": 23,
   "id": "52aa00bc",
   "metadata": {},
   "outputs": [],
   "source": [
    "#12. Write a short program that prints the numbers 1 to 10 using a for loop. \n",
    "#Then write an equivalent program that prints the numbers 1 to 10 using a while loop."
   ]
  },
  {
   "cell_type": "code",
   "execution_count": null,
   "id": "be0eca70",
   "metadata": {},
   "outputs": [],
   "source": [
    "#FOR LOOP"
   ]
  },
  {
   "cell_type": "code",
   "execution_count": 28,
   "id": "fe40929d",
   "metadata": {},
   "outputs": [
    {
     "name": "stdout",
     "output_type": "stream",
     "text": [
      "1\n",
      "2\n",
      "3\n",
      "4\n",
      "5\n",
      "6\n",
      "7\n",
      "8\n",
      "9\n",
      "10\n"
     ]
    }
   ],
   "source": [
    "for i in range(1,11):\n",
    "    print(i)"
   ]
  },
  {
   "cell_type": "code",
   "execution_count": null,
   "id": "d772ec61",
   "metadata": {},
   "outputs": [],
   "source": [
    "#WHILE LOOP"
   ]
  },
  {
   "cell_type": "code",
   "execution_count": 29,
   "id": "c490f971",
   "metadata": {},
   "outputs": [
    {
     "name": "stdout",
     "output_type": "stream",
     "text": [
      "1\n",
      "2\n",
      "3\n",
      "4\n",
      "5\n",
      "6\n",
      "7\n",
      "8\n",
      "9\n",
      "10\n"
     ]
    }
   ],
   "source": [
    "i=1\n",
    "while(i<=10):\n",
    "    print(i)\n",
    "    i+=1"
   ]
  },
  {
   "cell_type": "code",
   "execution_count": null,
   "id": "bbd2b12c",
   "metadata": {},
   "outputs": [],
   "source": [
    "13. If you had a function named bacon() inside a module named spam, how would you call it after importing spam?\n",
    "\n",
    "ANS\n",
    "\n",
    "from spam import bacon \n"
   ]
  },
  {
   "cell_type": "code",
   "execution_count": null,
   "id": "4fda6d2f",
   "metadata": {},
   "outputs": [],
   "source": []
  }
 ],
 "metadata": {
  "kernelspec": {
   "display_name": "Python 3 (ipykernel)",
   "language": "python",
   "name": "python3"
  },
  "language_info": {
   "codemirror_mode": {
    "name": "ipython",
    "version": 3
   },
   "file_extension": ".py",
   "mimetype": "text/x-python",
   "name": "python",
   "nbconvert_exporter": "python",
   "pygments_lexer": "ipython3",
   "version": "3.9.7"
  }
 },
 "nbformat": 4,
 "nbformat_minor": 5
}
